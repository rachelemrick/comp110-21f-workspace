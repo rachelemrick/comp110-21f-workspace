{
 "cells": [
  {
   "cell_type": "markdown",
   "metadata": {},
   "source": [
    "# PJ01: Data Analysis\n",
    "## Hypothesis: I think that there is a relationship between being a computer science major/minor and having prior coding experience!\n",
    "Additionally, I think the relationship will be strongest amongst students who are earlier in their college careers, because juniors and seniors who want to major in CompSci will probably have already completed this class."
   ]
  },
  {
   "cell_type": "markdown",
   "metadata": {},
   "source": [
    "### Import data\n",
    "First, I will import the csv data and, using `columnar`, convert it into a column-oriented data table. I also import some libraries so I can create visual data representations later."
   ]
  },
  {
   "cell_type": "code",
   "execution_count": 1,
   "metadata": {},
   "outputs": [],
   "source": [
    "from data_utils import read_csv_rows, head, columnar, select, count, find_intersection, group_values\n",
    "import matplotlib.pyplot as plt\n",
    "import pandas as pd\n",
    "\n",
    "%reload_ext autoreload\n",
    "%autoreload 2\n",
    "\n",
    "data_rows: list[dict[str, str]] = read_csv_rows('../../data/survey.csv')\n",
    "data_columns: dict[str, list[str]] = columnar(data_rows)"
   ]
  },
  {
   "cell_type": "markdown",
   "metadata": {},
   "source": [
    "### Select Important Columns\n",
    "Next, I will use the `select` function to make a new table (from our column-oriented table) with only the columns of interest. "
   ]
  },
  {
   "cell_type": "code",
   "execution_count": 2,
   "metadata": {},
   "outputs": [],
   "source": [
    "columns_of_interest: list[str] = [\"row_number\", \"year\", \"comp_major\", \"prior_exp\", \"prior_time\"]\n",
    "selected_data_columns: dict[str, list[str]] = select(data_columns, columns_of_interest)"
   ]
  },
  {
   "cell_type": "markdown",
   "metadata": {},
   "source": [
    "### Check First Few Rows\n",
    "I will use the `head` function to select and print the top 5 rows from our new condensed table with only important columns. This is to make sure that our prior code has been working, and we're getting the tables that we want."
   ]
  },
  {
   "cell_type": "code",
   "execution_count": 3,
   "metadata": {},
   "outputs": [
    {
     "data": {
      "text/plain": [
       "{'row_number': ['0', '1', '2', '3', '4'],\n",
       " 'year': ['23', '24', '23', '24', '22'],\n",
       " 'comp_major': ['No', 'No', 'No', 'No', 'No'],\n",
       " 'prior_exp': ['None to less than one month!',\n",
       "  'None to less than one month!',\n",
       "  'None to less than one month!',\n",
       "  'None to less than one month!',\n",
       "  'None to less than one month!'],\n",
       " 'prior_time': ['', '', '', '', '']}"
      ]
     },
     "execution_count": 3,
     "metadata": {},
     "output_type": "execute_result"
    }
   ],
   "source": [
    "top_ten_rows: dict[str, list[str]] = head(selected_data_columns, 5)\n",
    "top_ten_rows"
   ]
  },
  {
   "cell_type": "markdown",
   "metadata": {},
   "source": [
    "### Count Categories\n",
    "\n",
    "To analyze the data and make graphics, I need to find how many total responses are in each category.\n",
    "\n",
    "There are four possibilities for `comp_major`: \"Yes - BS\", \"Yes - BA\", \"Yes - Minor\", and \"No\". I will group BS and BA together into \"Major\", and leave \"Minor\" and \"No\" as their own categories.\n",
    "\n",
    "There are five possibilities for `prior_time`: \"None to less than one month!\", \"2-6 months\", \"7-12 months\", \"1-2 years\", and \"Over 2 years\". I will group them into <2 months, 2-12 months, and >1 year."
   ]
  },
  {
   "cell_type": "code",
   "execution_count": 4,
   "metadata": {},
   "outputs": [
    {
     "name": "stdout",
     "output_type": "stream",
     "text": [
      "{'No': 404, 'Minor': 33, 'Major': 136}\n",
      "{'No exp': 403, 'Some exp': 141, 'Much exp': 29}\n"
     ]
    }
   ],
   "source": [
    "total_major_count_raw: dict[str, int] = count(selected_data_columns[\"comp_major\"])\n",
    "total_major_count: dict[str, int] = {\"No\": total_major_count_raw[\"No\"], \"Minor\": total_major_count_raw[\"Yes - Minor\"], \"Major\": total_major_count_raw[\"Yes - BS\"] + total_major_count_raw[\"Yes - BA\"]}\n",
    "print(total_major_count)\n",
    "total_exp_count_raw: dict[str, int] = count(selected_data_columns[\"prior_exp\"])\n",
    "total_exp_count: dict[str, int] = {\n",
    "    \"No exp\": total_exp_count_raw[\"None to less than one month!\"],\n",
    "    \"Some exp\": total_exp_count_raw[\"2-6 months\"] + total_exp_count_raw[\"7-12 months\"],\n",
    "    \"Much exp\": total_exp_count_raw[\"1-2 years\"] + total_exp_count_raw[\"Over 2 years\"]}\n",
    "print(total_exp_count)"
   ]
  },
  {
   "cell_type": "markdown",
   "metadata": {},
   "source": [
    "### Count Data\n",
    "Finally, I start sorting the data. \n",
    "\n",
    "I will call my counter variables: `no_major_no_exp`, `minor_no_exp`, `major_no_exp`, `no_major_some_exp`, `minor_some_exp`, `major_some_exp`, `no_major_much_exp`, `minor_much_exp`, and `major_much_exp`.\n",
    "\n",
    "I will need some special sorter functions for this analysis. I will be using the `find_intersection` function that I wrote, which requires a row-oriented table. To make it easier on the computer, first I will make a new row-oriented table, grouping the comp_major and prior_time values as outlined in the markdown cell above. I wrote a program `group_values` to do that."
   ]
  },
  {
   "cell_type": "code",
   "execution_count": 5,
   "metadata": {},
   "outputs": [],
   "source": [
    "# Copy the table, because group_values is destructive\n",
    "grouped_row_data: list[dict[str, str]] = data_rows\n",
    "\n",
    "# Run the group_values function\n",
    "group_values(grouped_row_data, \"comp_major\", [\"Yes - BS\", \"Yes - BA\"], \"Major\")\n",
    "group_values(grouped_row_data, \"comp_major\", [\"Yes - Minor\"], \"Minor\")\n",
    "group_values(grouped_row_data, \"prior_exp\", [\"None to less than one month!\"], \"No exp\")\n",
    "group_values(grouped_row_data, \"prior_exp\", [\"2-6 months\", \"7-12 months\"], \"Some exp\")\n",
    "group_values(grouped_row_data, \"prior_exp\", [\"1-2 years\", \"Over 2 years\"], \"Much exp\")"
   ]
  },
  {
   "cell_type": "markdown",
   "metadata": {},
   "source": [
    "Now that I have a row-oriented table with grouped values, it will be much easier and less resource intensive to use `find_intersection`."
   ]
  },
  {
   "cell_type": "code",
   "execution_count": 6,
   "metadata": {},
   "outputs": [],
   "source": [
    "no_major_no_exp: int = find_intersection(grouped_row_data, \"comp_major\", \"No\", \"prior_exp\", \"No exp\")\n",
    "minor_no_exp: int = find_intersection(grouped_row_data, \"comp_major\", \"Minor\", \"prior_exp\", \"No exp\")\n",
    "major_no_exp: int = find_intersection(grouped_row_data, \"comp_major\", \"Major\", \"prior_exp\", \"No exp\")\n",
    "no_major_some_exp: int = find_intersection(grouped_row_data, \"comp_major\", \"No\", \"prior_exp\", \"Some exp\")\n",
    "minor_some_exp: int = find_intersection(grouped_row_data, \"comp_major\", \"Minor\", \"prior_exp\", \"Some exp\")\n",
    "major_some_exp: int = find_intersection(grouped_row_data, \"comp_major\", \"Major\", \"prior_exp\", \"Some exp\")\n",
    "no_major_much_exp: int = find_intersection(grouped_row_data, \"comp_major\", \"No\", \"prior_exp\", \"Much exp\")\n",
    "minor_much_exp: int = find_intersection(grouped_row_data, \"comp_major\", \"Minor\", \"prior_exp\", \"Much exp\")\n",
    "major_much_exp: int = find_intersection(grouped_row_data, \"comp_major\", \"Major\", \"prior_exp\", \"Much exp\")"
   ]
  },
  {
   "cell_type": "markdown",
   "metadata": {},
   "source": [
    "### Make a Table\n",
    "Now I have enough counting done to make a table. I will use Matplotlib to do so. (Code example used from Matplotlib tutorial [here](https://www.geeksforgeeks.org/create-a-grouped-bar-plot-in-matplotlib/))"
   ]
  },
  {
   "cell_type": "code",
   "execution_count": 7,
   "metadata": {},
   "outputs": [
    {
     "name": "stdout",
     "output_type": "stream",
     "text": [
      "  Major/Minor Plans  <2 Months Experience  2-12 Months Experience  \\\n",
      "0             Major                    50                      64   \n",
      "1             Minor                    22                      10   \n",
      "2           Neither                   331                      67   \n",
      "\n",
      "   >1 Year Experience  \n",
      "0                  22  \n",
      "1                   1  \n",
      "2                   6  \n"
     ]
    }
   ],
   "source": [
    "# Create data\n",
    "df = pd.DataFrame([['Major', major_no_exp, major_some_exp, major_much_exp], ['Minor', minor_no_exp, minor_some_exp, minor_much_exp], ['Neither', no_major_no_exp, no_major_some_exp, no_major_much_exp]], \n",
    "                  columns=['Major/Minor Plans', '<2 Months Experience', '2-12 Months Experience', '>1 Year Experience'])\n",
    "# view data\n",
    "print(df)"
   ]
  },
  {
   "cell_type": "markdown",
   "metadata": {},
   "source": [
    "### Make a Graph\n",
    "Since the data we're focusing on is two categorical variables, I think a good representation would be a clustered bar graph. I'll use Matplotlib to do that. (Code example used from Matplotlib tutorial [here](https://www.geeksforgeeks.org/create-a-grouped-bar-plot-in-matplotlib/))"
   ]
  },
  {
   "cell_type": "code",
   "execution_count": 8,
   "metadata": {},
   "outputs": [
    {
     "data": {
      "text/plain": [
       "<AxesSubplot:title={'center':'Comp 110 Students Experience Levels vs Major/Minor Plans'}, xlabel='Major/Minor Plans'>"
      ]
     },
     "execution_count": 8,
     "metadata": {},
     "output_type": "execute_result"
    },
    {
     "data": {
      "image/png": "[encoded data removed]",
      "text/plain": [
       "<Figure size 432x288 with 1 Axes>"
      ]
     },
     "metadata": {
      "needs_background": "light"
     },
     "output_type": "display_data"
    }
   ],
   "source": [
    "# Plot grouped bar chart\n",
    "df.plot(x='Major/Minor Plans', kind='bar', stacked=False, title='Comp 110 Students Experience Levels vs Major/Minor Plans')"
   ]
  },
  {
   "cell_type": "markdown",
   "metadata": {},
   "source": [
    "### Rubric:\n",
    "Reporting (40):\n",
    "\n",
    "- [x] 10 points - First markdown cell in your notebook states your hypothesis or question of interest\n",
    "- [ ] 10 points - Each cell of code that you write must be preceeded by a markdown cell explaining what you are attempting to do. Walk us through your thought process.\n",
    "- [ ] 10 points - Final markdown cell is a conclusion paragraph summarizing your findings. Were you able to answer your question or prove your hypothesis? It is totally OK (and part of the process) to not get what you initially expected.\n",
    "- [x] 10 points - Produce 2 visuals. Could be a data table or a plot. The libraries mentioned in this video are a good place to start! Feel free to explore what is out there. If you are producing plots and graphs, please be sure to label your axes and include a title. \n",
    "\n",
    "Analysis: (60):\n",
    "\n",
    "- [x] 50 points - Import and make use of the read_csv_rows, head, columnar, select, count functions from previous exercises and class examples (10 points each).\n",
    "    - [x] read_csv_rows\n",
    "    - [x] head\n",
    "    - [x] columnar\n",
    "    - [x] select \n",
    "    - [x] count\n",
    "- [x] 10 points - Define and use at least one helper function. One idea is a function that filters some data based on some criteria. For example, all ratings > 5. (You have already seen a basic filtering algorithm in your only_evens function from exercise 05) Whatever is useful for your particular analysis is fair game!\n",
    "\n",
    "All I need to do is conclusion paragraph and make sure markdown cells are all in the right place/written well."
   ]
  }
 ],
 "metadata": {
  "interpreter": {
   "hash": "36761a7b470163f54031b0983a1c4272a3d380299d62984fd2560009031099c6"
  },
  "kernelspec": {
   "display_name": "Python 3.9.6 64-bit",
   "name": "python3"
  },
  "language_info": {
   "codemirror_mode": {
    "name": "ipython",
    "version": 3
   },
   "file_extension": ".py",
   "mimetype": "text/x-python",
   "name": "python",
   "nbconvert_exporter": "python",
   "pygments_lexer": "ipython3",
   "version": "3.9.6"
  },
  "orig_nbformat": 4
 },
 "nbformat": 4,
 "nbformat_minor": 2
}
