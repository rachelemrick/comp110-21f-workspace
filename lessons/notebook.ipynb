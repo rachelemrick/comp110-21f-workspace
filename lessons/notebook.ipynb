{
 "cells": [
  {
   "cell_type": "markdown",
   "metadata": {},
   "source": [
    "# Demo Jupyter Notebook\n",
    "\n",
    "This notebook will exemplify some of the common use cases in Python Jupyter Notebooks."
   ]
  },
  {
   "cell_type": "code",
   "execution_count": 8,
   "metadata": {},
   "outputs": [
    {
     "name": "stdout",
     "output_type": "stream",
     "text": [
      "Hello, Marc\n"
     ]
    }
   ],
   "source": [
    "user: str = \"Marc\"\n",
    "print(f\"Hello, {user}\")"
   ]
  },
  {
   "cell_type": "markdown",
   "metadata": {},
   "source": [
    "## Formatting Markdown Notes\n",
    "\n",
    "* You can have lists\n",
    "* You can have [links - such as to a Markdown Cheat Sheet](https://www.markdownguide.org/cheat-sheet/)"
   ]
  },
  {
   "cell_type": "code",
   "execution_count": 9,
   "metadata": {},
   "outputs": [
    {
     "name": "stdout",
     "output_type": "stream",
     "text": [
      "Another reference to Marc made in this cell.\n"
     ]
    }
   ],
   "source": [
    "print(f\"Another reference to {user} made in this cell.\")"
   ]
  },
  {
   "cell_type": "markdown",
   "metadata": {},
   "source": [
    "## Useful Keyboard Shortcuts\n",
    "\n",
    "1. `Control + Enter` Execute a cell and leave the focus / cursor in the cell\n",
    "2. `Shift + Enter` Execute a cell and move to the next cell (or create a new cell at the end)"
   ]
  },
  {
   "cell_type": "code",
   "execution_count": 3,
   "metadata": {},
   "outputs": [
    {
     "name": "stdout",
     "output_type": "stream",
     "text": [
      "Sum important computation.\n"
     ]
    },
    {
     "data": {
      "text/plain": [
       "201110.0"
      ]
     },
     "execution_count": 3,
     "metadata": {},
     "output_type": "execute_result"
    }
   ],
   "source": [
    "print(\"Sum important computation.\")\n",
    "total: float = 110.0 + 1000.0\n",
    "total + 200000"
   ]
  },
  {
   "cell_type": "markdown",
   "metadata": {},
   "source": [
    "## Expressions written as the last line of a cell are automaticall output\n",
    "\n",
    "This is very handy for not needing to call the `print` function at the end of every cell."
   ]
  },
  {
   "cell_type": "markdown",
   "metadata": {},
   "source": [
    "## Example of Importing a Module"
   ]
  },
  {
   "cell_type": "code",
   "execution_count": 4,
   "metadata": {},
   "outputs": [
    {
     "data": {
      "text/plain": [
       "21"
      ]
     },
     "execution_count": 4,
     "metadata": {},
     "output_type": "execute_result"
    }
   ],
   "source": [
    "import notebook_helpers\n",
    "notebook_helpers.add_two_ints(1, 20)"
   ]
  },
  {
   "cell_type": "code",
   "execution_count": 5,
   "metadata": {},
   "outputs": [
    {
     "data": {
      "text/plain": [
       "30"
      ]
     },
     "execution_count": 5,
     "metadata": {},
     "output_type": "execute_result"
    }
   ],
   "source": [
    "from notebook_helpers import add_two_ints\n",
    "add_two_ints(10, 20)"
   ]
  }
 ],
 "metadata": {
  "interpreter": {
   "hash": "36761a7b470163f54031b0983a1c4272a3d380299d62984fd2560009031099c6"
  },
  "kernelspec": {
   "display_name": "Python 3.9.6 64-bit",
   "name": "python3"
  },
  "language_info": {
   "codemirror_mode": {
    "name": "ipython",
    "version": 3
   },
   "file_extension": ".py",
   "mimetype": "text/x-python",
   "name": "python",
   "nbconvert_exporter": "python",
   "pygments_lexer": "ipython3",
   "version": "3.9.6"
  },
  "orig_nbformat": 4
 },
 "nbformat": 4,
 "nbformat_minor": 2
}
